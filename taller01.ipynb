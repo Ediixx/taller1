{
 "cells": [
  {
   "cell_type": "markdown",
   "metadata": {},
   "source": [
    "# Taller 0-1 Notebook\n",
    "* Google Colab\n",
    "* Kaggle\n",
    "* Visual Studio Code\n",
    "\n",
    "Crear repositorio a Github! Subir al aula virtual link de repo **público**.\n"
   ]
  },
  {
   "cell_type": "markdown",
   "metadata": {},
   "source": [
    "## Enlaces interés\n",
    "* https://gitmoji.dev/\n",
    "* https://github.com/Ediixx/taller1"
   ]
  },
  {
   "cell_type": "code",
   "execution_count": null,
   "metadata": {},
   "outputs": [],
   "source": [
    "1"
   ]
  }
 ],
 "metadata": {
  "language_info": {
   "name": "python"
  }
 },
 "nbformat": 4,
 "nbformat_minor": 2
}
